{
 "cells": [
  {
   "cell_type": "markdown",
   "id": "0828487c",
   "metadata": {},
   "source": [
    "# 데이터 그룹핑\n",
    "\n",
    "## groupby 함수"
   ]
  },
  {
   "cell_type": "code",
   "execution_count": 1,
   "id": "9aa67385",
   "metadata": {},
   "outputs": [],
   "source": [
    "import numpy as np\n",
    "import pandas as pd"
   ]
  },
  {
   "cell_type": "code",
   "execution_count": 3,
   "id": "23d068fd",
   "metadata": {},
   "outputs": [
    {
     "data": {
      "text/html": [
       "<div>\n",
       "<style scoped>\n",
       "    .dataframe tbody tr th:only-of-type {\n",
       "        vertical-align: middle;\n",
       "    }\n",
       "\n",
       "    .dataframe tbody tr th {\n",
       "        vertical-align: top;\n",
       "    }\n",
       "\n",
       "    .dataframe thead th {\n",
       "        text-align: right;\n",
       "    }\n",
       "</style>\n",
       "<table border=\"1\" class=\"dataframe\">\n",
       "  <thead>\n",
       "    <tr style=\"text-align: right;\">\n",
       "      <th></th>\n",
       "      <th>학과</th>\n",
       "      <th>이름</th>\n",
       "      <th>학년</th>\n",
       "      <th>학점</th>\n",
       "    </tr>\n",
       "  </thead>\n",
       "  <tbody>\n",
       "    <tr>\n",
       "      <th>0</th>\n",
       "      <td>수학</td>\n",
       "      <td>로버트</td>\n",
       "      <td>1</td>\n",
       "      <td>1.5</td>\n",
       "    </tr>\n",
       "    <tr>\n",
       "      <th>1</th>\n",
       "      <td>화학</td>\n",
       "      <td>엔드류</td>\n",
       "      <td>2</td>\n",
       "      <td>2.7</td>\n",
       "    </tr>\n",
       "    <tr>\n",
       "      <th>2</th>\n",
       "      <td>수학</td>\n",
       "      <td>유진</td>\n",
       "      <td>3</td>\n",
       "      <td>3.5</td>\n",
       "    </tr>\n",
       "    <tr>\n",
       "      <th>3</th>\n",
       "      <td>화학</td>\n",
       "      <td>제이슨</td>\n",
       "      <td>2</td>\n",
       "      <td>1.9</td>\n",
       "    </tr>\n",
       "    <tr>\n",
       "      <th>4</th>\n",
       "      <td>수학</td>\n",
       "      <td>제이크</td>\n",
       "      <td>3</td>\n",
       "      <td>4.0</td>\n",
       "    </tr>\n",
       "  </tbody>\n",
       "</table>\n",
       "</div>"
      ],
      "text/plain": [
       "   학과   이름  학년   학점\n",
       "0  수학  로버트   1  1.5\n",
       "1  화학  엔드류   2  2.7\n",
       "2  수학   유진   3  3.5\n",
       "3  화학  제이슨   2  1.9\n",
       "4  수학  제이크   3  4.0"
      ]
     },
     "metadata": {},
     "output_type": "display_data"
    }
   ],
   "source": [
    "df = pd.DataFrame({\n",
    "    '학과': ['수학', '화학', '수학', '화학', '수학'],\n",
    "    '이름': ['로버트', '엔드류', '유진', '제이슨', '제이크'],\n",
    "    '학년': [1,2,3,2,3],\n",
    "    '학점': [1.5, 2.7, 3.5, 1.9, 4.0]\n",
    "})\n",
    "\n",
    "display(df)"
   ]
  },
  {
   "cell_type": "code",
   "execution_count": 5,
   "id": "1d8c3e34",
   "metadata": {},
   "outputs": [],
   "source": [
    "df_dept =df.groupby('학과') #데이터 프레임에 대해서 학과를 기준으로 그룹화를 실행"
   ]
  },
  {
   "cell_type": "code",
   "execution_count": 7,
   "id": "a9986bac",
   "metadata": {},
   "outputs": [
    {
     "name": "stdout",
     "output_type": "stream",
     "text": [
      "<pandas.core.groupby.generic.DataFrameGroupBy object at 0x00000200FAE7FD90>\n"
     ]
    }
   ],
   "source": [
    "print(df_dept)"
   ]
  },
  {
   "cell_type": "code",
   "execution_count": 8,
   "id": "01c2b418",
   "metadata": {},
   "outputs": [
    {
     "data": {
      "text/html": [
       "<div>\n",
       "<style scoped>\n",
       "    .dataframe tbody tr th:only-of-type {\n",
       "        vertical-align: middle;\n",
       "    }\n",
       "\n",
       "    .dataframe tbody tr th {\n",
       "        vertical-align: top;\n",
       "    }\n",
       "\n",
       "    .dataframe thead tr th {\n",
       "        text-align: left;\n",
       "    }\n",
       "\n",
       "    .dataframe thead tr:last-of-type th {\n",
       "        text-align: right;\n",
       "    }\n",
       "</style>\n",
       "<table border=\"1\" class=\"dataframe\">\n",
       "  <thead>\n",
       "    <tr>\n",
       "      <th></th>\n",
       "      <th colspan=\"8\" halign=\"left\">학년</th>\n",
       "      <th colspan=\"8\" halign=\"left\">학점</th>\n",
       "    </tr>\n",
       "    <tr>\n",
       "      <th></th>\n",
       "      <th>count</th>\n",
       "      <th>mean</th>\n",
       "      <th>std</th>\n",
       "      <th>min</th>\n",
       "      <th>25%</th>\n",
       "      <th>50%</th>\n",
       "      <th>75%</th>\n",
       "      <th>max</th>\n",
       "      <th>count</th>\n",
       "      <th>mean</th>\n",
       "      <th>std</th>\n",
       "      <th>min</th>\n",
       "      <th>25%</th>\n",
       "      <th>50%</th>\n",
       "      <th>75%</th>\n",
       "      <th>max</th>\n",
       "    </tr>\n",
       "    <tr>\n",
       "      <th>학과</th>\n",
       "      <th></th>\n",
       "      <th></th>\n",
       "      <th></th>\n",
       "      <th></th>\n",
       "      <th></th>\n",
       "      <th></th>\n",
       "      <th></th>\n",
       "      <th></th>\n",
       "      <th></th>\n",
       "      <th></th>\n",
       "      <th></th>\n",
       "      <th></th>\n",
       "      <th></th>\n",
       "      <th></th>\n",
       "      <th></th>\n",
       "      <th></th>\n",
       "    </tr>\n",
       "  </thead>\n",
       "  <tbody>\n",
       "    <tr>\n",
       "      <th>수학</th>\n",
       "      <td>3.0</td>\n",
       "      <td>2.333333</td>\n",
       "      <td>1.154701</td>\n",
       "      <td>1.0</td>\n",
       "      <td>2.0</td>\n",
       "      <td>3.0</td>\n",
       "      <td>3.0</td>\n",
       "      <td>3.0</td>\n",
       "      <td>3.0</td>\n",
       "      <td>3.0</td>\n",
       "      <td>1.322876</td>\n",
       "      <td>1.5</td>\n",
       "      <td>2.5</td>\n",
       "      <td>3.5</td>\n",
       "      <td>3.75</td>\n",
       "      <td>4.0</td>\n",
       "    </tr>\n",
       "    <tr>\n",
       "      <th>화학</th>\n",
       "      <td>2.0</td>\n",
       "      <td>2.000000</td>\n",
       "      <td>0.000000</td>\n",
       "      <td>2.0</td>\n",
       "      <td>2.0</td>\n",
       "      <td>2.0</td>\n",
       "      <td>2.0</td>\n",
       "      <td>2.0</td>\n",
       "      <td>2.0</td>\n",
       "      <td>2.3</td>\n",
       "      <td>0.565685</td>\n",
       "      <td>1.9</td>\n",
       "      <td>2.1</td>\n",
       "      <td>2.3</td>\n",
       "      <td>2.50</td>\n",
       "      <td>2.7</td>\n",
       "    </tr>\n",
       "  </tbody>\n",
       "</table>\n",
       "</div>"
      ],
      "text/plain": [
       "      학년                                                 학점                 \\\n",
       "   count      mean       std  min  25%  50%  75%  max count mean       std   \n",
       "학과                                                                           \n",
       "수학   3.0  2.333333  1.154701  1.0  2.0  3.0  3.0  3.0   3.0  3.0  1.322876   \n",
       "화학   2.0  2.000000  0.000000  2.0  2.0  2.0  2.0  2.0   2.0  2.3  0.565685   \n",
       "\n",
       "                              \n",
       "    min  25%  50%   75%  max  \n",
       "학과                            \n",
       "수학  1.5  2.5  3.5  3.75  4.0  \n",
       "화학  1.9  2.1  2.3  2.50  2.7  "
      ]
     },
     "execution_count": 8,
     "metadata": {},
     "output_type": "execute_result"
    }
   ],
   "source": [
    "# 학과별 기술통계 출력\n",
    "df_dept.describe()"
   ]
  },
  {
   "cell_type": "code",
   "execution_count": 9,
   "id": "c044a618",
   "metadata": {},
   "outputs": [
    {
     "data": {
      "text/html": [
       "<div>\n",
       "<style scoped>\n",
       "    .dataframe tbody tr th:only-of-type {\n",
       "        vertical-align: middle;\n",
       "    }\n",
       "\n",
       "    .dataframe tbody tr th {\n",
       "        vertical-align: top;\n",
       "    }\n",
       "\n",
       "    .dataframe thead th {\n",
       "        text-align: right;\n",
       "    }\n",
       "</style>\n",
       "<table border=\"1\" class=\"dataframe\">\n",
       "  <thead>\n",
       "    <tr style=\"text-align: right;\">\n",
       "      <th></th>\n",
       "      <th>이름</th>\n",
       "      <th>학년</th>\n",
       "      <th>학점</th>\n",
       "    </tr>\n",
       "    <tr>\n",
       "      <th>학과</th>\n",
       "      <th></th>\n",
       "      <th></th>\n",
       "      <th></th>\n",
       "    </tr>\n",
       "  </thead>\n",
       "  <tbody>\n",
       "    <tr>\n",
       "      <th>수학</th>\n",
       "      <td>3</td>\n",
       "      <td>3</td>\n",
       "      <td>3</td>\n",
       "    </tr>\n",
       "    <tr>\n",
       "      <th>화학</th>\n",
       "      <td>2</td>\n",
       "      <td>2</td>\n",
       "      <td>2</td>\n",
       "    </tr>\n",
       "  </tbody>\n",
       "</table>\n",
       "</div>"
      ],
      "text/plain": [
       "    이름  학년  학점\n",
       "학과            \n",
       "수학   3   3   3\n",
       "화학   2   2   2"
      ]
     },
     "execution_count": 9,
     "metadata": {},
     "output_type": "execute_result"
    }
   ],
   "source": [
    "# 학과별 원소 개수 출력\n",
    "df_dept.count()"
   ]
  },
  {
   "cell_type": "markdown",
   "id": "4fec1361",
   "metadata": {},
   "source": [
    "## 1단계 그룹핑"
   ]
  },
  {
   "cell_type": "code",
   "execution_count": 10,
   "id": "b575d409",
   "metadata": {},
   "outputs": [
    {
     "name": "stdout",
     "output_type": "stream",
     "text": [
      "<pandas.core.groupby.generic.SeriesGroupBy object at 0x00000200F9528390>\n"
     ]
    }
   ],
   "source": [
    "# Series에 대한 1단계 그룹핑\n",
    "dept = df['학점'].groupby(df['학과'])   # df['컬럼1개']의 경우 series로 반환이 됨\n",
    "print(dept)"
   ]
  },
  {
   "cell_type": "code",
   "execution_count": 11,
   "id": "1309c646",
   "metadata": {},
   "outputs": [
    {
     "data": {
      "text/plain": [
       "학과\n",
       "수학    3.0\n",
       "화학    2.3\n",
       "Name: 학점, dtype: float64"
      ]
     },
     "execution_count": 11,
     "metadata": {},
     "output_type": "execute_result"
    }
   ],
   "source": [
    "#학과 평균 성적 출력\n",
    "dept.mean()"
   ]
  },
  {
   "cell_type": "code",
   "execution_count": 12,
   "id": "02cc939b",
   "metadata": {},
   "outputs": [
    {
     "data": {
      "text/plain": [
       "학과\n",
       "수학    1.322876\n",
       "화학    0.565685\n",
       "Name: 학점, dtype: float64"
      ]
     },
     "execution_count": 12,
     "metadata": {},
     "output_type": "execute_result"
    }
   ],
   "source": [
    "# 학과 성적 표준편차 출력\n",
    "dept.std()"
   ]
  },
  {
   "cell_type": "code",
   "execution_count": 13,
   "id": "d41a6242",
   "metadata": {},
   "outputs": [
    {
     "name": "stdout",
     "output_type": "stream",
     "text": [
      "학과\n",
      "수학    3\n",
      "화학    2\n",
      "Name: 학점, dtype: int64\n"
     ]
    }
   ],
   "source": [
    "#group별 크기 출력\n",
    "group_size= dept.size()\n",
    "print(group_size)\n",
    "\n",
    "#각 그룹의 원소개 몇개인가?? "
   ]
  },
  {
   "cell_type": "code",
   "execution_count": 14,
   "id": "ed4ca05a",
   "metadata": {},
   "outputs": [
    {
     "name": "stdout",
     "output_type": "stream",
     "text": [
      "0    1.5\n",
      "2    3.5\n",
      "4    4.0\n",
      "Name: 학점, dtype: float64\n"
     ]
    }
   ],
   "source": [
    "# 수학과 인원의 데이터만 따로 출력\n",
    "math= dept.get_group('수학')\n",
    "print(math) #수학과 학생들 성적만 나옴"
   ]
  },
  {
   "attachments": {
    "image.png": {
     "image/png": "[encoded data removed]"
    }
   },
   "cell_type": "markdown",
   "id": "ce4ad19d",
   "metadata": {},
   "source": [
    "![image.png](attachment:image.png)"
   ]
  },
  {
   "cell_type": "markdown",
   "id": "09ce853d",
   "metadata": {},
   "source": [
    "## 2 단계 그룹핑"
   ]
  },
  {
   "cell_type": "code",
   "execution_count": 16,
   "id": "05c78148",
   "metadata": {},
   "outputs": [
    {
     "data": {
      "text/plain": [
       "<pandas.core.groupby.generic.DataFrameGroupBy object at 0x00000200FCA2BD10>"
      ]
     },
     "execution_count": 16,
     "metadata": {},
     "output_type": "execute_result"
    }
   ],
   "source": [
    "dept = df.groupby([df['학과'], df['학년']]) # 학과와 학년으로 그룹화 진행\n",
    "dept"
   ]
  },
  {
   "cell_type": "code",
   "execution_count": 17,
   "id": "5a3a0b85",
   "metadata": {},
   "outputs": [
    {
     "data": {
      "text/html": [
       "<div>\n",
       "<style scoped>\n",
       "    .dataframe tbody tr th:only-of-type {\n",
       "        vertical-align: middle;\n",
       "    }\n",
       "\n",
       "    .dataframe tbody tr th {\n",
       "        vertical-align: top;\n",
       "    }\n",
       "\n",
       "    .dataframe thead tr th {\n",
       "        text-align: left;\n",
       "    }\n",
       "\n",
       "    .dataframe thead tr:last-of-type th {\n",
       "        text-align: right;\n",
       "    }\n",
       "</style>\n",
       "<table border=\"1\" class=\"dataframe\">\n",
       "  <thead>\n",
       "    <tr>\n",
       "      <th></th>\n",
       "      <th></th>\n",
       "      <th colspan=\"8\" halign=\"left\">학점</th>\n",
       "    </tr>\n",
       "    <tr>\n",
       "      <th></th>\n",
       "      <th></th>\n",
       "      <th>count</th>\n",
       "      <th>mean</th>\n",
       "      <th>std</th>\n",
       "      <th>min</th>\n",
       "      <th>25%</th>\n",
       "      <th>50%</th>\n",
       "      <th>75%</th>\n",
       "      <th>max</th>\n",
       "    </tr>\n",
       "    <tr>\n",
       "      <th>학과</th>\n",
       "      <th>학년</th>\n",
       "      <th></th>\n",
       "      <th></th>\n",
       "      <th></th>\n",
       "      <th></th>\n",
       "      <th></th>\n",
       "      <th></th>\n",
       "      <th></th>\n",
       "      <th></th>\n",
       "    </tr>\n",
       "  </thead>\n",
       "  <tbody>\n",
       "    <tr>\n",
       "      <th rowspan=\"2\" valign=\"top\">수학</th>\n",
       "      <th>1</th>\n",
       "      <td>1.0</td>\n",
       "      <td>1.50</td>\n",
       "      <td>NaN</td>\n",
       "      <td>1.5</td>\n",
       "      <td>1.500</td>\n",
       "      <td>1.50</td>\n",
       "      <td>1.500</td>\n",
       "      <td>1.5</td>\n",
       "    </tr>\n",
       "    <tr>\n",
       "      <th>3</th>\n",
       "      <td>2.0</td>\n",
       "      <td>3.75</td>\n",
       "      <td>0.353553</td>\n",
       "      <td>3.5</td>\n",
       "      <td>3.625</td>\n",
       "      <td>3.75</td>\n",
       "      <td>3.875</td>\n",
       "      <td>4.0</td>\n",
       "    </tr>\n",
       "    <tr>\n",
       "      <th>화학</th>\n",
       "      <th>2</th>\n",
       "      <td>2.0</td>\n",
       "      <td>2.30</td>\n",
       "      <td>0.565685</td>\n",
       "      <td>1.9</td>\n",
       "      <td>2.100</td>\n",
       "      <td>2.30</td>\n",
       "      <td>2.500</td>\n",
       "      <td>2.7</td>\n",
       "    </tr>\n",
       "  </tbody>\n",
       "</table>\n",
       "</div>"
      ],
      "text/plain": [
       "         학점                                              \n",
       "      count  mean       std  min    25%   50%    75%  max\n",
       "학과 학년                                                    \n",
       "수학 1    1.0  1.50       NaN  1.5  1.500  1.50  1.500  1.5\n",
       "   3    2.0  3.75  0.353553  3.5  3.625  3.75  3.875  4.0\n",
       "화학 2    2.0  2.30  0.565685  1.9  2.100  2.30  2.500  2.7"
      ]
     },
     "execution_count": 17,
     "metadata": {},
     "output_type": "execute_result"
    }
   ],
   "source": [
    "# 그룹별 기술통계 도출\n",
    "dept.describe()"
   ]
  },
  {
   "cell_type": "code",
   "execution_count": 18,
   "id": "332e90fd",
   "metadata": {},
   "outputs": [
    {
     "name": "stderr",
     "output_type": "stream",
     "text": [
      "C:\\Users\\jsm91\\AppData\\Local\\Temp\\ipykernel_22988\\2102249075.py:1: FutureWarning: The default value of numeric_only in DataFrameGroupBy.mean is deprecated. In a future version, numeric_only will default to False. Either specify numeric_only or select only columns which should be valid for the function.\n",
      "  display(dept.mean()) #그룹 평균값 도출\n"
     ]
    },
    {
     "data": {
      "text/html": [
       "<div>\n",
       "<style scoped>\n",
       "    .dataframe tbody tr th:only-of-type {\n",
       "        vertical-align: middle;\n",
       "    }\n",
       "\n",
       "    .dataframe tbody tr th {\n",
       "        vertical-align: top;\n",
       "    }\n",
       "\n",
       "    .dataframe thead th {\n",
       "        text-align: right;\n",
       "    }\n",
       "</style>\n",
       "<table border=\"1\" class=\"dataframe\">\n",
       "  <thead>\n",
       "    <tr style=\"text-align: right;\">\n",
       "      <th></th>\n",
       "      <th></th>\n",
       "      <th>학점</th>\n",
       "    </tr>\n",
       "    <tr>\n",
       "      <th>학과</th>\n",
       "      <th>학년</th>\n",
       "      <th></th>\n",
       "    </tr>\n",
       "  </thead>\n",
       "  <tbody>\n",
       "    <tr>\n",
       "      <th rowspan=\"2\" valign=\"top\">수학</th>\n",
       "      <th>1</th>\n",
       "      <td>1.50</td>\n",
       "    </tr>\n",
       "    <tr>\n",
       "      <th>3</th>\n",
       "      <td>3.75</td>\n",
       "    </tr>\n",
       "    <tr>\n",
       "      <th>화학</th>\n",
       "      <th>2</th>\n",
       "      <td>2.30</td>\n",
       "    </tr>\n",
       "  </tbody>\n",
       "</table>\n",
       "</div>"
      ],
      "text/plain": [
       "         학점\n",
       "학과 학년      \n",
       "수학 1   1.50\n",
       "   3   3.75\n",
       "화학 2   2.30"
      ]
     },
     "metadata": {},
     "output_type": "display_data"
    }
   ],
   "source": [
    "display(dept.mean()) #그룹 평균값 도출"
   ]
  },
  {
   "cell_type": "code",
   "execution_count": 19,
   "id": "ec93f399",
   "metadata": {},
   "outputs": [
    {
     "data": {
      "text/html": [
       "<div>\n",
       "<style scoped>\n",
       "    .dataframe tbody tr th:only-of-type {\n",
       "        vertical-align: middle;\n",
       "    }\n",
       "\n",
       "    .dataframe tbody tr th {\n",
       "        vertical-align: top;\n",
       "    }\n",
       "\n",
       "    .dataframe thead th {\n",
       "        text-align: right;\n",
       "    }\n",
       "</style>\n",
       "<table border=\"1\" class=\"dataframe\">\n",
       "  <thead>\n",
       "    <tr style=\"text-align: right;\">\n",
       "      <th></th>\n",
       "      <th>학과</th>\n",
       "      <th>이름</th>\n",
       "      <th>학년</th>\n",
       "      <th>학점</th>\n",
       "    </tr>\n",
       "  </thead>\n",
       "  <tbody>\n",
       "    <tr>\n",
       "      <th>0</th>\n",
       "      <td>수학</td>\n",
       "      <td>로버트</td>\n",
       "      <td>1</td>\n",
       "      <td>1.5</td>\n",
       "    </tr>\n",
       "    <tr>\n",
       "      <th>1</th>\n",
       "      <td>화학</td>\n",
       "      <td>엔드류</td>\n",
       "      <td>2</td>\n",
       "      <td>2.7</td>\n",
       "    </tr>\n",
       "    <tr>\n",
       "      <th>2</th>\n",
       "      <td>수학</td>\n",
       "      <td>유진</td>\n",
       "      <td>3</td>\n",
       "      <td>3.5</td>\n",
       "    </tr>\n",
       "    <tr>\n",
       "      <th>3</th>\n",
       "      <td>화학</td>\n",
       "      <td>제이슨</td>\n",
       "      <td>2</td>\n",
       "      <td>1.9</td>\n",
       "    </tr>\n",
       "    <tr>\n",
       "      <th>4</th>\n",
       "      <td>수학</td>\n",
       "      <td>제이크</td>\n",
       "      <td>3</td>\n",
       "      <td>4.0</td>\n",
       "    </tr>\n",
       "    <tr>\n",
       "      <th>5</th>\n",
       "      <td>화학</td>\n",
       "      <td>앤디</td>\n",
       "      <td>1</td>\n",
       "      <td>3.0</td>\n",
       "    </tr>\n",
       "    <tr>\n",
       "      <th>6</th>\n",
       "      <td>수학</td>\n",
       "      <td>제니</td>\n",
       "      <td>2</td>\n",
       "      <td>4.2</td>\n",
       "    </tr>\n",
       "    <tr>\n",
       "      <th>7</th>\n",
       "      <td>화학</td>\n",
       "      <td>엘리스</td>\n",
       "      <td>3</td>\n",
       "      <td>3.1</td>\n",
       "    </tr>\n",
       "    <tr>\n",
       "      <th>8</th>\n",
       "      <td>수학</td>\n",
       "      <td>멜리샤</td>\n",
       "      <td>2</td>\n",
       "      <td>4.5</td>\n",
       "    </tr>\n",
       "  </tbody>\n",
       "</table>\n",
       "</div>"
      ],
      "text/plain": [
       "   학과   이름  학년   학점\n",
       "0  수학  로버트   1  1.5\n",
       "1  화학  엔드류   2  2.7\n",
       "2  수학   유진   3  3.5\n",
       "3  화학  제이슨   2  1.9\n",
       "4  수학  제이크   3  4.0\n",
       "5  화학   앤디   1  3.0\n",
       "6  수학   제니   2  4.2\n",
       "7  화학  엘리스   3  3.1\n",
       "8  수학  멜리샤   2  4.5"
      ]
     },
     "metadata": {},
     "output_type": "display_data"
    }
   ],
   "source": [
    "# 더 많은 데이터로 실습 진행\n",
    "\n",
    "#새로운 데이터 프레임 생성\n",
    "df2 = pd.DataFrame({\n",
    "    '학과':['화학', '수학', '화학', '수학'],\n",
    "    '이름': ['앤디', '제니', '엘리스', '멜리샤'],\n",
    "    '학년': [1,2,3,2],\n",
    "    '학점': [3, 4.2, 3.1,4.5]\n",
    "})\n",
    "\n",
    "#df1과 df2 행방향 연결\n",
    "concat_df = pd.concat([df, df2], axis=0)\n",
    "concat_df.reset_index(inplace=True, drop=True)\n",
    "display(concat_df)"
   ]
  },
  {
   "cell_type": "code",
   "execution_count": 20,
   "id": "c0823218",
   "metadata": {},
   "outputs": [],
   "source": [
    "# 학과와 학년별로 그룹핑\n",
    "dept_and_year = concat_df.groupby([concat_df['학과'], concat_df['학년']])"
   ]
  },
  {
   "cell_type": "code",
   "execution_count": 21,
   "id": "156c4f57",
   "metadata": {},
   "outputs": [
    {
     "data": {
      "text/html": [
       "<div>\n",
       "<style scoped>\n",
       "    .dataframe tbody tr th:only-of-type {\n",
       "        vertical-align: middle;\n",
       "    }\n",
       "\n",
       "    .dataframe tbody tr th {\n",
       "        vertical-align: top;\n",
       "    }\n",
       "\n",
       "    .dataframe thead tr th {\n",
       "        text-align: left;\n",
       "    }\n",
       "\n",
       "    .dataframe thead tr:last-of-type th {\n",
       "        text-align: right;\n",
       "    }\n",
       "</style>\n",
       "<table border=\"1\" class=\"dataframe\">\n",
       "  <thead>\n",
       "    <tr>\n",
       "      <th></th>\n",
       "      <th></th>\n",
       "      <th colspan=\"8\" halign=\"left\">학점</th>\n",
       "    </tr>\n",
       "    <tr>\n",
       "      <th></th>\n",
       "      <th></th>\n",
       "      <th>count</th>\n",
       "      <th>mean</th>\n",
       "      <th>std</th>\n",
       "      <th>min</th>\n",
       "      <th>25%</th>\n",
       "      <th>50%</th>\n",
       "      <th>75%</th>\n",
       "      <th>max</th>\n",
       "    </tr>\n",
       "    <tr>\n",
       "      <th>학과</th>\n",
       "      <th>학년</th>\n",
       "      <th></th>\n",
       "      <th></th>\n",
       "      <th></th>\n",
       "      <th></th>\n",
       "      <th></th>\n",
       "      <th></th>\n",
       "      <th></th>\n",
       "      <th></th>\n",
       "    </tr>\n",
       "  </thead>\n",
       "  <tbody>\n",
       "    <tr>\n",
       "      <th rowspan=\"3\" valign=\"top\">수학</th>\n",
       "      <th>1</th>\n",
       "      <td>1.0</td>\n",
       "      <td>1.50</td>\n",
       "      <td>NaN</td>\n",
       "      <td>1.5</td>\n",
       "      <td>1.500</td>\n",
       "      <td>1.50</td>\n",
       "      <td>1.500</td>\n",
       "      <td>1.5</td>\n",
       "    </tr>\n",
       "    <tr>\n",
       "      <th>2</th>\n",
       "      <td>2.0</td>\n",
       "      <td>4.35</td>\n",
       "      <td>0.212132</td>\n",
       "      <td>4.2</td>\n",
       "      <td>4.275</td>\n",
       "      <td>4.35</td>\n",
       "      <td>4.425</td>\n",
       "      <td>4.5</td>\n",
       "    </tr>\n",
       "    <tr>\n",
       "      <th>3</th>\n",
       "      <td>2.0</td>\n",
       "      <td>3.75</td>\n",
       "      <td>0.353553</td>\n",
       "      <td>3.5</td>\n",
       "      <td>3.625</td>\n",
       "      <td>3.75</td>\n",
       "      <td>3.875</td>\n",
       "      <td>4.0</td>\n",
       "    </tr>\n",
       "    <tr>\n",
       "      <th rowspan=\"3\" valign=\"top\">화학</th>\n",
       "      <th>1</th>\n",
       "      <td>1.0</td>\n",
       "      <td>3.00</td>\n",
       "      <td>NaN</td>\n",
       "      <td>3.0</td>\n",
       "      <td>3.000</td>\n",
       "      <td>3.00</td>\n",
       "      <td>3.000</td>\n",
       "      <td>3.0</td>\n",
       "    </tr>\n",
       "    <tr>\n",
       "      <th>2</th>\n",
       "      <td>2.0</td>\n",
       "      <td>2.30</td>\n",
       "      <td>0.565685</td>\n",
       "      <td>1.9</td>\n",
       "      <td>2.100</td>\n",
       "      <td>2.30</td>\n",
       "      <td>2.500</td>\n",
       "      <td>2.7</td>\n",
       "    </tr>\n",
       "    <tr>\n",
       "      <th>3</th>\n",
       "      <td>1.0</td>\n",
       "      <td>3.10</td>\n",
       "      <td>NaN</td>\n",
       "      <td>3.1</td>\n",
       "      <td>3.100</td>\n",
       "      <td>3.10</td>\n",
       "      <td>3.100</td>\n",
       "      <td>3.1</td>\n",
       "    </tr>\n",
       "  </tbody>\n",
       "</table>\n",
       "</div>"
      ],
      "text/plain": [
       "         학점                                              \n",
       "      count  mean       std  min    25%   50%    75%  max\n",
       "학과 학년                                                    \n",
       "수학 1    1.0  1.50       NaN  1.5  1.500  1.50  1.500  1.5\n",
       "   2    2.0  4.35  0.212132  4.2  4.275  4.35  4.425  4.5\n",
       "   3    2.0  3.75  0.353553  3.5  3.625  3.75  3.875  4.0\n",
       "화학 1    1.0  3.00       NaN  3.0  3.000  3.00  3.000  3.0\n",
       "   2    2.0  2.30  0.565685  1.9  2.100  2.30  2.500  2.7\n",
       "   3    1.0  3.10       NaN  3.1  3.100  3.10  3.100  3.1"
      ]
     },
     "execution_count": 21,
     "metadata": {},
     "output_type": "execute_result"
    }
   ],
   "source": [
    "# 학과 학년별 기술통계\n",
    "dept_and_year.describe()"
   ]
  },
  {
   "cell_type": "code",
   "execution_count": 22,
   "id": "08a0b80e",
   "metadata": {},
   "outputs": [
    {
     "name": "stderr",
     "output_type": "stream",
     "text": [
      "C:\\Users\\jsm91\\AppData\\Local\\Temp\\ipykernel_22988\\1008068002.py:2: FutureWarning: The default value of numeric_only in DataFrameGroupBy.mean is deprecated. In a future version, numeric_only will default to False. Either specify numeric_only or select only columns which should be valid for the function.\n",
      "  dept_and_year.mean()\n"
     ]
    },
    {
     "data": {
      "text/html": [
       "<div>\n",
       "<style scoped>\n",
       "    .dataframe tbody tr th:only-of-type {\n",
       "        vertical-align: middle;\n",
       "    }\n",
       "\n",
       "    .dataframe tbody tr th {\n",
       "        vertical-align: top;\n",
       "    }\n",
       "\n",
       "    .dataframe thead th {\n",
       "        text-align: right;\n",
       "    }\n",
       "</style>\n",
       "<table border=\"1\" class=\"dataframe\">\n",
       "  <thead>\n",
       "    <tr style=\"text-align: right;\">\n",
       "      <th></th>\n",
       "      <th></th>\n",
       "      <th>학점</th>\n",
       "    </tr>\n",
       "    <tr>\n",
       "      <th>학과</th>\n",
       "      <th>학년</th>\n",
       "      <th></th>\n",
       "    </tr>\n",
       "  </thead>\n",
       "  <tbody>\n",
       "    <tr>\n",
       "      <th rowspan=\"3\" valign=\"top\">수학</th>\n",
       "      <th>1</th>\n",
       "      <td>1.50</td>\n",
       "    </tr>\n",
       "    <tr>\n",
       "      <th>2</th>\n",
       "      <td>4.35</td>\n",
       "    </tr>\n",
       "    <tr>\n",
       "      <th>3</th>\n",
       "      <td>3.75</td>\n",
       "    </tr>\n",
       "    <tr>\n",
       "      <th rowspan=\"3\" valign=\"top\">화학</th>\n",
       "      <th>1</th>\n",
       "      <td>3.00</td>\n",
       "    </tr>\n",
       "    <tr>\n",
       "      <th>2</th>\n",
       "      <td>2.30</td>\n",
       "    </tr>\n",
       "    <tr>\n",
       "      <th>3</th>\n",
       "      <td>3.10</td>\n",
       "    </tr>\n",
       "  </tbody>\n",
       "</table>\n",
       "</div>"
      ],
      "text/plain": [
       "         학점\n",
       "학과 학년      \n",
       "수학 1   1.50\n",
       "   2   4.35\n",
       "   3   3.75\n",
       "화학 1   3.00\n",
       "   2   2.30\n",
       "   3   3.10"
      ]
     },
     "execution_count": 22,
     "metadata": {},
     "output_type": "execute_result"
    }
   ],
   "source": [
    "# 그룹별 평균 출력\n",
    "dept_and_year.mean()"
   ]
  },
  {
   "cell_type": "code",
   "execution_count": 24,
   "id": "a0f0e83b",
   "metadata": {},
   "outputs": [
    {
     "name": "stderr",
     "output_type": "stream",
     "text": [
      "C:\\Users\\jsm91\\AppData\\Local\\Temp\\ipykernel_22988\\3276845810.py:2: FutureWarning: The default value of numeric_only in DataFrameGroupBy.mean is deprecated. In a future version, numeric_only will default to False. Either specify numeric_only or select only columns which should be valid for the function.\n",
      "  dept_and_year.mean().index\n"
     ]
    },
    {
     "data": {
      "text/plain": [
       "MultiIndex([('수학', 1),\n",
       "            ('수학', 2),\n",
       "            ('수학', 3),\n",
       "            ('화학', 1),\n",
       "            ('화학', 2),\n",
       "            ('화학', 3)],\n",
       "           names=['학과', '학년'])"
      ]
     },
     "execution_count": 24,
     "metadata": {},
     "output_type": "execute_result"
    }
   ],
   "source": [
    "# 2단계 그룹화 인덱스 확인\n",
    "dept_and_year.mean().index\n",
    "\n",
    "# 단일인덱스가 아니라 멀티 인덱스임"
   ]
  },
  {
   "cell_type": "markdown",
   "id": "56b8fbc2",
   "metadata": {},
   "source": [
    "## apply 함수"
   ]
  },
  {
   "cell_type": "code",
   "execution_count": 25,
   "id": "500646cd",
   "metadata": {},
   "outputs": [],
   "source": [
    "# 학과별 우수 성적자 3명 출력 함수\n",
    "\n",
    "def top3_dept_scorer(df):\n",
    "    return df.sort_values(by='학점', ascending=False)[:3]"
   ]
  },
  {
   "cell_type": "code",
   "execution_count": 28,
   "id": "5b1cce2a",
   "metadata": {},
   "outputs": [],
   "source": [
    "# 학과 그룹바이 객체 생성\n",
    "dept = concat_df.groupby('학과')"
   ]
  },
  {
   "cell_type": "code",
   "execution_count": 29,
   "id": "bc4b1982",
   "metadata": {},
   "outputs": [
    {
     "data": {
      "text/html": [
       "<div>\n",
       "<style scoped>\n",
       "    .dataframe tbody tr th:only-of-type {\n",
       "        vertical-align: middle;\n",
       "    }\n",
       "\n",
       "    .dataframe tbody tr th {\n",
       "        vertical-align: top;\n",
       "    }\n",
       "\n",
       "    .dataframe thead th {\n",
       "        text-align: right;\n",
       "    }\n",
       "</style>\n",
       "<table border=\"1\" class=\"dataframe\">\n",
       "  <thead>\n",
       "    <tr style=\"text-align: right;\">\n",
       "      <th></th>\n",
       "      <th></th>\n",
       "      <th>학과</th>\n",
       "      <th>이름</th>\n",
       "      <th>학년</th>\n",
       "      <th>학점</th>\n",
       "    </tr>\n",
       "    <tr>\n",
       "      <th>학과</th>\n",
       "      <th></th>\n",
       "      <th></th>\n",
       "      <th></th>\n",
       "      <th></th>\n",
       "      <th></th>\n",
       "    </tr>\n",
       "  </thead>\n",
       "  <tbody>\n",
       "    <tr>\n",
       "      <th rowspan=\"3\" valign=\"top\">수학</th>\n",
       "      <th>8</th>\n",
       "      <td>수학</td>\n",
       "      <td>멜리샤</td>\n",
       "      <td>2</td>\n",
       "      <td>4.5</td>\n",
       "    </tr>\n",
       "    <tr>\n",
       "      <th>6</th>\n",
       "      <td>수학</td>\n",
       "      <td>제니</td>\n",
       "      <td>2</td>\n",
       "      <td>4.2</td>\n",
       "    </tr>\n",
       "    <tr>\n",
       "      <th>4</th>\n",
       "      <td>수학</td>\n",
       "      <td>제이크</td>\n",
       "      <td>3</td>\n",
       "      <td>4.0</td>\n",
       "    </tr>\n",
       "    <tr>\n",
       "      <th rowspan=\"3\" valign=\"top\">화학</th>\n",
       "      <th>7</th>\n",
       "      <td>화학</td>\n",
       "      <td>엘리스</td>\n",
       "      <td>3</td>\n",
       "      <td>3.1</td>\n",
       "    </tr>\n",
       "    <tr>\n",
       "      <th>5</th>\n",
       "      <td>화학</td>\n",
       "      <td>앤디</td>\n",
       "      <td>1</td>\n",
       "      <td>3.0</td>\n",
       "    </tr>\n",
       "    <tr>\n",
       "      <th>1</th>\n",
       "      <td>화학</td>\n",
       "      <td>엔드류</td>\n",
       "      <td>2</td>\n",
       "      <td>2.7</td>\n",
       "    </tr>\n",
       "  </tbody>\n",
       "</table>\n",
       "</div>"
      ],
      "text/plain": [
       "      학과   이름  학년   학점\n",
       "학과                    \n",
       "수학 8  수학  멜리샤   2  4.5\n",
       "   6  수학   제니   2  4.2\n",
       "   4  수학  제이크   3  4.0\n",
       "화학 7  화학  엘리스   3  3.1\n",
       "   5  화학   앤디   1  3.0\n",
       "   1  화학  엔드류   2  2.7"
      ]
     },
     "execution_count": 29,
     "metadata": {},
     "output_type": "execute_result"
    }
   ],
   "source": [
    "# apply와 top3_dept_scorer 함수\n",
    "dept.apply(top3_dept_scorer)\n",
    "\n",
    "#수학과 화학과 에서 우수성적자 3명씩 출력되었고 인덱스까지 불러왔다"
   ]
  },
  {
   "cell_type": "code",
   "execution_count": 30,
   "id": "58c1efd8",
   "metadata": {},
   "outputs": [],
   "source": [
    "#학과 최우수 성적 2명을 출력하는 함수\n",
    "def top2_scorer(series):\n",
    "    return series.sort_values(ascending=False)[:2]"
   ]
  },
  {
   "cell_type": "code",
   "execution_count": 31,
   "id": "769875e9",
   "metadata": {},
   "outputs": [
    {
     "data": {
      "text/plain": [
       "학과   \n",
       "수학  8    4.5\n",
       "    6    4.2\n",
       "화학  7    3.1\n",
       "    5    3.0\n",
       "Name: 학점, dtype: float64"
      ]
     },
     "execution_count": 31,
     "metadata": {},
     "output_type": "execute_result"
    }
   ],
   "source": [
    "dept['학점'].apply(top2_scorer)"
   ]
  },
  {
   "cell_type": "code",
   "execution_count": 32,
   "id": "eff7d1b7",
   "metadata": {},
   "outputs": [
    {
     "data": {
      "text/html": [
       "<div>\n",
       "<style scoped>\n",
       "    .dataframe tbody tr th:only-of-type {\n",
       "        vertical-align: middle;\n",
       "    }\n",
       "\n",
       "    .dataframe tbody tr th {\n",
       "        vertical-align: top;\n",
       "    }\n",
       "\n",
       "    .dataframe thead th {\n",
       "        text-align: right;\n",
       "    }\n",
       "</style>\n",
       "<table border=\"1\" class=\"dataframe\">\n",
       "  <thead>\n",
       "    <tr style=\"text-align: right;\">\n",
       "      <th></th>\n",
       "      <th></th>\n",
       "      <th>학점</th>\n",
       "    </tr>\n",
       "    <tr>\n",
       "      <th>학과</th>\n",
       "      <th></th>\n",
       "      <th></th>\n",
       "    </tr>\n",
       "  </thead>\n",
       "  <tbody>\n",
       "    <tr>\n",
       "      <th rowspan=\"2\" valign=\"top\">수학</th>\n",
       "      <th>8</th>\n",
       "      <td>4.5</td>\n",
       "    </tr>\n",
       "    <tr>\n",
       "      <th>6</th>\n",
       "      <td>4.2</td>\n",
       "    </tr>\n",
       "    <tr>\n",
       "      <th rowspan=\"2\" valign=\"top\">화학</th>\n",
       "      <th>7</th>\n",
       "      <td>3.1</td>\n",
       "    </tr>\n",
       "    <tr>\n",
       "      <th>5</th>\n",
       "      <td>3.0</td>\n",
       "    </tr>\n",
       "  </tbody>\n",
       "</table>\n",
       "</div>"
      ],
      "text/plain": [
       "       학점\n",
       "학과       \n",
       "수학 8  4.5\n",
       "   6  4.2\n",
       "화학 7  3.1\n",
       "   5  3.0"
      ]
     },
     "execution_count": 32,
     "metadata": {},
     "output_type": "execute_result"
    }
   ],
   "source": [
    "# 멀티인덱스의 경우 데이터 프레임으로 보면 정렬된 뷰를 볼수 있음\n",
    "\n",
    "pd.DataFrame(dept['학점'].apply(top2_scorer))"
   ]
  },
  {
   "cell_type": "markdown",
   "id": "afd09fb5",
   "metadata": {},
   "source": [
    "## lambda  식 활용"
   ]
  },
  {
   "cell_type": "code",
   "execution_count": 33,
   "id": "dcf16c69",
   "metadata": {},
   "outputs": [],
   "source": [
    "# 새로운 데이터 프레임 생성\n",
    "df = pd.DataFrame({\n",
    "    'key': [ 'A','B','B','C','A','C','A','B','C','A'],\n",
    "    'data': [1, 2, 2, 1, 3, 8, 2, 5, 3, 6]\n",
    "})"
   ]
  },
  {
   "cell_type": "code",
   "execution_count": 34,
   "id": "d2948595",
   "metadata": {},
   "outputs": [
    {
     "data": {
      "text/html": [
       "<div>\n",
       "<style scoped>\n",
       "    .dataframe tbody tr th:only-of-type {\n",
       "        vertical-align: middle;\n",
       "    }\n",
       "\n",
       "    .dataframe tbody tr th {\n",
       "        vertical-align: top;\n",
       "    }\n",
       "\n",
       "    .dataframe thead th {\n",
       "        text-align: right;\n",
       "    }\n",
       "</style>\n",
       "<table border=\"1\" class=\"dataframe\">\n",
       "  <thead>\n",
       "    <tr style=\"text-align: right;\">\n",
       "      <th></th>\n",
       "      <th></th>\n",
       "      <th>key</th>\n",
       "      <th>data</th>\n",
       "    </tr>\n",
       "    <tr>\n",
       "      <th>key</th>\n",
       "      <th></th>\n",
       "      <th></th>\n",
       "      <th></th>\n",
       "    </tr>\n",
       "  </thead>\n",
       "  <tbody>\n",
       "    <tr>\n",
       "      <th rowspan=\"4\" valign=\"top\">A</th>\n",
       "      <th>0</th>\n",
       "      <td>A</td>\n",
       "      <td>1</td>\n",
       "    </tr>\n",
       "    <tr>\n",
       "      <th>6</th>\n",
       "      <td>A</td>\n",
       "      <td>2</td>\n",
       "    </tr>\n",
       "    <tr>\n",
       "      <th>4</th>\n",
       "      <td>A</td>\n",
       "      <td>3</td>\n",
       "    </tr>\n",
       "    <tr>\n",
       "      <th>9</th>\n",
       "      <td>A</td>\n",
       "      <td>6</td>\n",
       "    </tr>\n",
       "    <tr>\n",
       "      <th rowspan=\"3\" valign=\"top\">B</th>\n",
       "      <th>1</th>\n",
       "      <td>B</td>\n",
       "      <td>2</td>\n",
       "    </tr>\n",
       "    <tr>\n",
       "      <th>2</th>\n",
       "      <td>B</td>\n",
       "      <td>2</td>\n",
       "    </tr>\n",
       "    <tr>\n",
       "      <th>7</th>\n",
       "      <td>B</td>\n",
       "      <td>5</td>\n",
       "    </tr>\n",
       "    <tr>\n",
       "      <th rowspan=\"3\" valign=\"top\">C</th>\n",
       "      <th>3</th>\n",
       "      <td>C</td>\n",
       "      <td>1</td>\n",
       "    </tr>\n",
       "    <tr>\n",
       "      <th>8</th>\n",
       "      <td>C</td>\n",
       "      <td>3</td>\n",
       "    </tr>\n",
       "    <tr>\n",
       "      <th>5</th>\n",
       "      <td>C</td>\n",
       "      <td>8</td>\n",
       "    </tr>\n",
       "  </tbody>\n",
       "</table>\n",
       "</div>"
      ],
      "text/plain": [
       "      key  data\n",
       "key            \n",
       "A   0   A     1\n",
       "    6   A     2\n",
       "    4   A     3\n",
       "    9   A     6\n",
       "B   1   B     2\n",
       "    2   B     2\n",
       "    7   B     5\n",
       "C   3   C     1\n",
       "    8   C     3\n",
       "    5   C     8"
      ]
     },
     "execution_count": 34,
     "metadata": {},
     "output_type": "execute_result"
    }
   ],
   "source": [
    "# key별로 그룹화를 진행후 data 값의 크기 별로 오름차순 정렬\n",
    "df.groupby('key').apply(lambda x: x.sort_values(by='data'))"
   ]
  },
  {
   "cell_type": "code",
   "execution_count": 35,
   "id": "61c33a69",
   "metadata": {},
   "outputs": [],
   "source": [
    "# 위에서 apply 함수를 이용하여 진행한 학과별 성적 탑 3명 학생 출력을 lambda 식으로 진행\n",
    "dept = concat_df.groupby('학과')"
   ]
  },
  {
   "cell_type": "code",
   "execution_count": 36,
   "id": "00edec86",
   "metadata": {},
   "outputs": [
    {
     "data": {
      "text/html": [
       "<div>\n",
       "<style scoped>\n",
       "    .dataframe tbody tr th:only-of-type {\n",
       "        vertical-align: middle;\n",
       "    }\n",
       "\n",
       "    .dataframe tbody tr th {\n",
       "        vertical-align: top;\n",
       "    }\n",
       "\n",
       "    .dataframe thead th {\n",
       "        text-align: right;\n",
       "    }\n",
       "</style>\n",
       "<table border=\"1\" class=\"dataframe\">\n",
       "  <thead>\n",
       "    <tr style=\"text-align: right;\">\n",
       "      <th></th>\n",
       "      <th></th>\n",
       "      <th>학과</th>\n",
       "      <th>이름</th>\n",
       "      <th>학년</th>\n",
       "      <th>학점</th>\n",
       "    </tr>\n",
       "    <tr>\n",
       "      <th>학과</th>\n",
       "      <th></th>\n",
       "      <th></th>\n",
       "      <th></th>\n",
       "      <th></th>\n",
       "      <th></th>\n",
       "    </tr>\n",
       "  </thead>\n",
       "  <tbody>\n",
       "    <tr>\n",
       "      <th rowspan=\"3\" valign=\"top\">수학</th>\n",
       "      <th>8</th>\n",
       "      <td>수학</td>\n",
       "      <td>멜리샤</td>\n",
       "      <td>2</td>\n",
       "      <td>4.5</td>\n",
       "    </tr>\n",
       "    <tr>\n",
       "      <th>6</th>\n",
       "      <td>수학</td>\n",
       "      <td>제니</td>\n",
       "      <td>2</td>\n",
       "      <td>4.2</td>\n",
       "    </tr>\n",
       "    <tr>\n",
       "      <th>4</th>\n",
       "      <td>수학</td>\n",
       "      <td>제이크</td>\n",
       "      <td>3</td>\n",
       "      <td>4.0</td>\n",
       "    </tr>\n",
       "    <tr>\n",
       "      <th rowspan=\"3\" valign=\"top\">화학</th>\n",
       "      <th>7</th>\n",
       "      <td>화학</td>\n",
       "      <td>엘리스</td>\n",
       "      <td>3</td>\n",
       "      <td>3.1</td>\n",
       "    </tr>\n",
       "    <tr>\n",
       "      <th>5</th>\n",
       "      <td>화학</td>\n",
       "      <td>앤디</td>\n",
       "      <td>1</td>\n",
       "      <td>3.0</td>\n",
       "    </tr>\n",
       "    <tr>\n",
       "      <th>1</th>\n",
       "      <td>화학</td>\n",
       "      <td>엔드류</td>\n",
       "      <td>2</td>\n",
       "      <td>2.7</td>\n",
       "    </tr>\n",
       "  </tbody>\n",
       "</table>\n",
       "</div>"
      ],
      "text/plain": [
       "      학과   이름  학년   학점\n",
       "학과                    \n",
       "수학 8  수학  멜리샤   2  4.5\n",
       "   6  수학   제니   2  4.2\n",
       "   4  수학  제이크   3  4.0\n",
       "화학 7  화학  엘리스   3  3.1\n",
       "   5  화학   앤디   1  3.0\n",
       "   1  화학  엔드류   2  2.7"
      ]
     },
     "execution_count": 36,
     "metadata": {},
     "output_type": "execute_result"
    }
   ],
   "source": [
    "dept.apply(lambda x : x.sort_values(by='학점', ascending=False)[:3])"
   ]
  },
  {
   "cell_type": "markdown",
   "id": "96ebbf39",
   "metadata": {},
   "source": [
    "## groupby 와 재귀함수\n"
   ]
  },
  {
   "cell_type": "code",
   "execution_count": 37,
   "id": "c51f2767",
   "metadata": {},
   "outputs": [
    {
     "name": "stdout",
     "output_type": "stream",
     "text": [
      "학과: 수학\n"
     ]
    },
    {
     "data": {
      "text/html": [
       "<div>\n",
       "<style scoped>\n",
       "    .dataframe tbody tr th:only-of-type {\n",
       "        vertical-align: middle;\n",
       "    }\n",
       "\n",
       "    .dataframe tbody tr th {\n",
       "        vertical-align: top;\n",
       "    }\n",
       "\n",
       "    .dataframe thead th {\n",
       "        text-align: right;\n",
       "    }\n",
       "</style>\n",
       "<table border=\"1\" class=\"dataframe\">\n",
       "  <thead>\n",
       "    <tr style=\"text-align: right;\">\n",
       "      <th></th>\n",
       "      <th>학과</th>\n",
       "      <th>이름</th>\n",
       "      <th>학년</th>\n",
       "      <th>학점</th>\n",
       "    </tr>\n",
       "  </thead>\n",
       "  <tbody>\n",
       "    <tr>\n",
       "      <th>0</th>\n",
       "      <td>수학</td>\n",
       "      <td>로버트</td>\n",
       "      <td>1</td>\n",
       "      <td>1.5</td>\n",
       "    </tr>\n",
       "    <tr>\n",
       "      <th>2</th>\n",
       "      <td>수학</td>\n",
       "      <td>유진</td>\n",
       "      <td>3</td>\n",
       "      <td>3.5</td>\n",
       "    </tr>\n",
       "    <tr>\n",
       "      <th>4</th>\n",
       "      <td>수학</td>\n",
       "      <td>제이크</td>\n",
       "      <td>3</td>\n",
       "      <td>4.0</td>\n",
       "    </tr>\n",
       "    <tr>\n",
       "      <th>6</th>\n",
       "      <td>수학</td>\n",
       "      <td>제니</td>\n",
       "      <td>2</td>\n",
       "      <td>4.2</td>\n",
       "    </tr>\n",
       "    <tr>\n",
       "      <th>8</th>\n",
       "      <td>수학</td>\n",
       "      <td>멜리샤</td>\n",
       "      <td>2</td>\n",
       "      <td>4.5</td>\n",
       "    </tr>\n",
       "  </tbody>\n",
       "</table>\n",
       "</div>"
      ],
      "text/plain": [
       "   학과   이름  학년   학점\n",
       "0  수학  로버트   1  1.5\n",
       "2  수학   유진   3  3.5\n",
       "4  수학  제이크   3  4.0\n",
       "6  수학   제니   2  4.2\n",
       "8  수학  멜리샤   2  4.5"
      ]
     },
     "metadata": {},
     "output_type": "display_data"
    },
    {
     "name": "stdout",
     "output_type": "stream",
     "text": [
      "학과: 화학\n"
     ]
    },
    {
     "data": {
      "text/html": [
       "<div>\n",
       "<style scoped>\n",
       "    .dataframe tbody tr th:only-of-type {\n",
       "        vertical-align: middle;\n",
       "    }\n",
       "\n",
       "    .dataframe tbody tr th {\n",
       "        vertical-align: top;\n",
       "    }\n",
       "\n",
       "    .dataframe thead th {\n",
       "        text-align: right;\n",
       "    }\n",
       "</style>\n",
       "<table border=\"1\" class=\"dataframe\">\n",
       "  <thead>\n",
       "    <tr style=\"text-align: right;\">\n",
       "      <th></th>\n",
       "      <th>학과</th>\n",
       "      <th>이름</th>\n",
       "      <th>학년</th>\n",
       "      <th>학점</th>\n",
       "    </tr>\n",
       "  </thead>\n",
       "  <tbody>\n",
       "    <tr>\n",
       "      <th>1</th>\n",
       "      <td>화학</td>\n",
       "      <td>엔드류</td>\n",
       "      <td>2</td>\n",
       "      <td>2.7</td>\n",
       "    </tr>\n",
       "    <tr>\n",
       "      <th>3</th>\n",
       "      <td>화학</td>\n",
       "      <td>제이슨</td>\n",
       "      <td>2</td>\n",
       "      <td>1.9</td>\n",
       "    </tr>\n",
       "    <tr>\n",
       "      <th>5</th>\n",
       "      <td>화학</td>\n",
       "      <td>앤디</td>\n",
       "      <td>1</td>\n",
       "      <td>3.0</td>\n",
       "    </tr>\n",
       "    <tr>\n",
       "      <th>7</th>\n",
       "      <td>화학</td>\n",
       "      <td>엘리스</td>\n",
       "      <td>3</td>\n",
       "      <td>3.1</td>\n",
       "    </tr>\n",
       "  </tbody>\n",
       "</table>\n",
       "</div>"
      ],
      "text/plain": [
       "   학과   이름  학년   학점\n",
       "1  화학  엔드류   2  2.7\n",
       "3  화학  제이슨   2  1.9\n",
       "5  화학   앤디   1  3.0\n",
       "7  화학  엘리스   3  3.1"
      ]
     },
     "metadata": {},
     "output_type": "display_data"
    }
   ],
   "source": [
    "# 1차 그룹핑 재귀\n",
    "for dept, group in concat_df.groupby(concat_df['학과']):\n",
    "    print('학과: {}'.format(dept))\n",
    "    display(group)"
   ]
  },
  {
   "cell_type": "code",
   "execution_count": 39,
   "id": "e53d677f",
   "metadata": {},
   "outputs": [
    {
     "name": "stdout",
     "output_type": "stream",
     "text": [
      "-------------------------\n",
      "학과:  수학\n",
      "학년:  1\n"
     ]
    },
    {
     "data": {
      "text/html": [
       "<div>\n",
       "<style scoped>\n",
       "    .dataframe tbody tr th:only-of-type {\n",
       "        vertical-align: middle;\n",
       "    }\n",
       "\n",
       "    .dataframe tbody tr th {\n",
       "        vertical-align: top;\n",
       "    }\n",
       "\n",
       "    .dataframe thead th {\n",
       "        text-align: right;\n",
       "    }\n",
       "</style>\n",
       "<table border=\"1\" class=\"dataframe\">\n",
       "  <thead>\n",
       "    <tr style=\"text-align: right;\">\n",
       "      <th></th>\n",
       "      <th>학과</th>\n",
       "      <th>이름</th>\n",
       "      <th>학년</th>\n",
       "      <th>학점</th>\n",
       "    </tr>\n",
       "  </thead>\n",
       "  <tbody>\n",
       "    <tr>\n",
       "      <th>0</th>\n",
       "      <td>수학</td>\n",
       "      <td>로버트</td>\n",
       "      <td>1</td>\n",
       "      <td>1.5</td>\n",
       "    </tr>\n",
       "  </tbody>\n",
       "</table>\n",
       "</div>"
      ],
      "text/plain": [
       "   학과   이름  학년   학점\n",
       "0  수학  로버트   1  1.5"
      ]
     },
     "metadata": {},
     "output_type": "display_data"
    },
    {
     "name": "stdout",
     "output_type": "stream",
     "text": [
      "-------------------------\n",
      "학과:  수학\n",
      "학년:  2\n"
     ]
    },
    {
     "data": {
      "text/html": [
       "<div>\n",
       "<style scoped>\n",
       "    .dataframe tbody tr th:only-of-type {\n",
       "        vertical-align: middle;\n",
       "    }\n",
       "\n",
       "    .dataframe tbody tr th {\n",
       "        vertical-align: top;\n",
       "    }\n",
       "\n",
       "    .dataframe thead th {\n",
       "        text-align: right;\n",
       "    }\n",
       "</style>\n",
       "<table border=\"1\" class=\"dataframe\">\n",
       "  <thead>\n",
       "    <tr style=\"text-align: right;\">\n",
       "      <th></th>\n",
       "      <th>학과</th>\n",
       "      <th>이름</th>\n",
       "      <th>학년</th>\n",
       "      <th>학점</th>\n",
       "    </tr>\n",
       "  </thead>\n",
       "  <tbody>\n",
       "    <tr>\n",
       "      <th>6</th>\n",
       "      <td>수학</td>\n",
       "      <td>제니</td>\n",
       "      <td>2</td>\n",
       "      <td>4.2</td>\n",
       "    </tr>\n",
       "    <tr>\n",
       "      <th>8</th>\n",
       "      <td>수학</td>\n",
       "      <td>멜리샤</td>\n",
       "      <td>2</td>\n",
       "      <td>4.5</td>\n",
       "    </tr>\n",
       "  </tbody>\n",
       "</table>\n",
       "</div>"
      ],
      "text/plain": [
       "   학과   이름  학년   학점\n",
       "6  수학   제니   2  4.2\n",
       "8  수학  멜리샤   2  4.5"
      ]
     },
     "metadata": {},
     "output_type": "display_data"
    },
    {
     "name": "stdout",
     "output_type": "stream",
     "text": [
      "-------------------------\n",
      "학과:  수학\n",
      "학년:  3\n"
     ]
    },
    {
     "data": {
      "text/html": [
       "<div>\n",
       "<style scoped>\n",
       "    .dataframe tbody tr th:only-of-type {\n",
       "        vertical-align: middle;\n",
       "    }\n",
       "\n",
       "    .dataframe tbody tr th {\n",
       "        vertical-align: top;\n",
       "    }\n",
       "\n",
       "    .dataframe thead th {\n",
       "        text-align: right;\n",
       "    }\n",
       "</style>\n",
       "<table border=\"1\" class=\"dataframe\">\n",
       "  <thead>\n",
       "    <tr style=\"text-align: right;\">\n",
       "      <th></th>\n",
       "      <th>학과</th>\n",
       "      <th>이름</th>\n",
       "      <th>학년</th>\n",
       "      <th>학점</th>\n",
       "    </tr>\n",
       "  </thead>\n",
       "  <tbody>\n",
       "    <tr>\n",
       "      <th>2</th>\n",
       "      <td>수학</td>\n",
       "      <td>유진</td>\n",
       "      <td>3</td>\n",
       "      <td>3.5</td>\n",
       "    </tr>\n",
       "    <tr>\n",
       "      <th>4</th>\n",
       "      <td>수학</td>\n",
       "      <td>제이크</td>\n",
       "      <td>3</td>\n",
       "      <td>4.0</td>\n",
       "    </tr>\n",
       "  </tbody>\n",
       "</table>\n",
       "</div>"
      ],
      "text/plain": [
       "   학과   이름  학년   학점\n",
       "2  수학   유진   3  3.5\n",
       "4  수학  제이크   3  4.0"
      ]
     },
     "metadata": {},
     "output_type": "display_data"
    },
    {
     "name": "stdout",
     "output_type": "stream",
     "text": [
      "-------------------------\n",
      "학과:  화학\n",
      "학년:  1\n"
     ]
    },
    {
     "data": {
      "text/html": [
       "<div>\n",
       "<style scoped>\n",
       "    .dataframe tbody tr th:only-of-type {\n",
       "        vertical-align: middle;\n",
       "    }\n",
       "\n",
       "    .dataframe tbody tr th {\n",
       "        vertical-align: top;\n",
       "    }\n",
       "\n",
       "    .dataframe thead th {\n",
       "        text-align: right;\n",
       "    }\n",
       "</style>\n",
       "<table border=\"1\" class=\"dataframe\">\n",
       "  <thead>\n",
       "    <tr style=\"text-align: right;\">\n",
       "      <th></th>\n",
       "      <th>학과</th>\n",
       "      <th>이름</th>\n",
       "      <th>학년</th>\n",
       "      <th>학점</th>\n",
       "    </tr>\n",
       "  </thead>\n",
       "  <tbody>\n",
       "    <tr>\n",
       "      <th>5</th>\n",
       "      <td>화학</td>\n",
       "      <td>앤디</td>\n",
       "      <td>1</td>\n",
       "      <td>3.0</td>\n",
       "    </tr>\n",
       "  </tbody>\n",
       "</table>\n",
       "</div>"
      ],
      "text/plain": [
       "   학과  이름  학년   학점\n",
       "5  화학  앤디   1  3.0"
      ]
     },
     "metadata": {},
     "output_type": "display_data"
    },
    {
     "name": "stdout",
     "output_type": "stream",
     "text": [
      "-------------------------\n",
      "학과:  화학\n",
      "학년:  2\n"
     ]
    },
    {
     "data": {
      "text/html": [
       "<div>\n",
       "<style scoped>\n",
       "    .dataframe tbody tr th:only-of-type {\n",
       "        vertical-align: middle;\n",
       "    }\n",
       "\n",
       "    .dataframe tbody tr th {\n",
       "        vertical-align: top;\n",
       "    }\n",
       "\n",
       "    .dataframe thead th {\n",
       "        text-align: right;\n",
       "    }\n",
       "</style>\n",
       "<table border=\"1\" class=\"dataframe\">\n",
       "  <thead>\n",
       "    <tr style=\"text-align: right;\">\n",
       "      <th></th>\n",
       "      <th>학과</th>\n",
       "      <th>이름</th>\n",
       "      <th>학년</th>\n",
       "      <th>학점</th>\n",
       "    </tr>\n",
       "  </thead>\n",
       "  <tbody>\n",
       "    <tr>\n",
       "      <th>1</th>\n",
       "      <td>화학</td>\n",
       "      <td>엔드류</td>\n",
       "      <td>2</td>\n",
       "      <td>2.7</td>\n",
       "    </tr>\n",
       "    <tr>\n",
       "      <th>3</th>\n",
       "      <td>화학</td>\n",
       "      <td>제이슨</td>\n",
       "      <td>2</td>\n",
       "      <td>1.9</td>\n",
       "    </tr>\n",
       "  </tbody>\n",
       "</table>\n",
       "</div>"
      ],
      "text/plain": [
       "   학과   이름  학년   학점\n",
       "1  화학  엔드류   2  2.7\n",
       "3  화학  제이슨   2  1.9"
      ]
     },
     "metadata": {},
     "output_type": "display_data"
    },
    {
     "name": "stdout",
     "output_type": "stream",
     "text": [
      "-------------------------\n",
      "학과:  화학\n",
      "학년:  3\n"
     ]
    },
    {
     "data": {
      "text/html": [
       "<div>\n",
       "<style scoped>\n",
       "    .dataframe tbody tr th:only-of-type {\n",
       "        vertical-align: middle;\n",
       "    }\n",
       "\n",
       "    .dataframe tbody tr th {\n",
       "        vertical-align: top;\n",
       "    }\n",
       "\n",
       "    .dataframe thead th {\n",
       "        text-align: right;\n",
       "    }\n",
       "</style>\n",
       "<table border=\"1\" class=\"dataframe\">\n",
       "  <thead>\n",
       "    <tr style=\"text-align: right;\">\n",
       "      <th></th>\n",
       "      <th>학과</th>\n",
       "      <th>이름</th>\n",
       "      <th>학년</th>\n",
       "      <th>학점</th>\n",
       "    </tr>\n",
       "  </thead>\n",
       "  <tbody>\n",
       "    <tr>\n",
       "      <th>7</th>\n",
       "      <td>화학</td>\n",
       "      <td>엘리스</td>\n",
       "      <td>3</td>\n",
       "      <td>3.1</td>\n",
       "    </tr>\n",
       "  </tbody>\n",
       "</table>\n",
       "</div>"
      ],
      "text/plain": [
       "   학과   이름  학년   학점\n",
       "7  화학  엘리스   3  3.1"
      ]
     },
     "metadata": {},
     "output_type": "display_data"
    }
   ],
   "source": [
    "# 2차 그룹핑 재귀\n",
    "\n",
    "for (dept, year), group in concat_df.groupby([concat_df['학과'], concat_df['학년']]): #학과와 학년으로 그룹바이 진행\n",
    "    print('-' * 25)\n",
    "    print('학과: ', dept)\n",
    "    print('학년: ', year)\n",
    "    display(group)"
   ]
  },
  {
   "cell_type": "code",
   "execution_count": null,
   "id": "d073e17c",
   "metadata": {},
   "outputs": [],
   "source": []
  }
 ],
 "metadata": {
  "kernelspec": {
   "display_name": "Python 3 (ipykernel)",
   "language": "python",
   "name": "python3"
  },
  "language_info": {
   "codemirror_mode": {
    "name": "ipython",
    "version": 3
   },
   "file_extension": ".py",
   "mimetype": "text/x-python",
   "name": "python",
   "nbconvert_exporter": "python",
   "pygments_lexer": "ipython3",
   "version": "3.11.3"
  }
 },
 "nbformat": 4,
 "nbformat_minor": 5
}
