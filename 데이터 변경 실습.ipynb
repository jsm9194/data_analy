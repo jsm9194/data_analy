{
 "cells": [
  {
   "cell_type": "markdown",
   "id": "81a5ee1b",
   "metadata": {},
   "source": [
    "# 데이터 실습\n",
    "\n",
    "전북 무인교통단속카메라 표준데이터 \n",
    "https://www.data.go.kr/iim/api/selectAPIAcountView.do"
   ]
  },
  {
   "cell_type": "code",
   "execution_count": 1,
   "id": "9f6c9174",
   "metadata": {},
   "outputs": [],
   "source": [
    "import pandas as pd\n",
    "import json\n",
    "import requests # 서버쪽에 request 보낼 대 사용하는 라이브러리"
   ]
  },
  {
   "cell_type": "code",
   "execution_count": 6,
   "id": "dc14cbf8",
   "metadata": {},
   "outputs": [
    {
     "name": "stdout",
     "output_type": "stream",
     "text": [
      "<?xml version=\"1.0\" encoding=\"UTF-8\"?>\r\n",
      "<response><header><resultCode>30</resultCode><resultMsg>SERVICE KEY IS NOT REGISTERED ERROR.</resultMsg></header></response>\r\n",
      "\n"
     ]
    }
   ],
   "source": [
    "# open api 호출시 필요한 정보 입력\n",
    "key = 'yL3MakzfgWsWSBkGbaBp82Ma6T7L8z3b72JXLCh9KJZbB902eKdJxB3ytmWJImqWF%2FrCsAtA56yvy4mR2P79Fw%3D%3D'\n",
    "pageNo = 0 # 요청변수 : 페이지 번호 입력\n",
    "row = 100 # 요청변수 : 한페이지 결과 수 입력\n",
    "\n",
    "# full url 입력 \n",
    "url = f'http://api.data.go.kr/openapi/tn_pubr_public_unmanned_traffic_camera_api?serviceKey={key}&pageNo={pageNo}&numOfRows={row}&type={json}'\n",
    "\n",
    "response = requests.get(url) # full url을 requests 라이브러리를 통해 호출\n",
    "\n",
    "#한글출력위한 인코딩\n",
    "response.encoding = 'utf-8'\n",
    "\n",
    "print(response.text[0:400]) #response객체의 text 출력"
   ]
  },
  {
   "cell_type": "code",
   "execution_count": 3,
   "id": "528c33e7",
   "metadata": {},
   "outputs": [
    {
     "ename": "JSONDecodeError",
     "evalue": "Expecting value: line 1 column 1 (char 0)",
     "output_type": "error",
     "traceback": [
      "\u001b[1;31m---------------------------------------------------------------------------\u001b[0m",
      "\u001b[1;31mJSONDecodeError\u001b[0m                           Traceback (most recent call last)",
      "Cell \u001b[1;32mIn[3], line 2\u001b[0m\n\u001b[0;32m      1\u001b[0m \u001b[38;5;66;03m# 결과 객체에 있는 데이터 [json] 조회\u001b[39;00m\n\u001b[1;32m----> 2\u001b[0m resulting_dict \u001b[38;5;241m=\u001b[39m json\u001b[38;5;241m.\u001b[39mloads(response\u001b[38;5;241m.\u001b[39mtext) \u001b[38;5;66;03m# json을 dict 타입으로 바꾸는 함수\u001b[39;00m\n\u001b[0;32m      3\u001b[0m resulting_dict\u001b[38;5;241m.\u001b[39mkeys()\n",
      "File \u001b[1;32m~\\anaconda3\\Lib\\json\\__init__.py:346\u001b[0m, in \u001b[0;36mloads\u001b[1;34m(s, cls, object_hook, parse_float, parse_int, parse_constant, object_pairs_hook, **kw)\u001b[0m\n\u001b[0;32m    341\u001b[0m     s \u001b[38;5;241m=\u001b[39m s\u001b[38;5;241m.\u001b[39mdecode(detect_encoding(s), \u001b[38;5;124m'\u001b[39m\u001b[38;5;124msurrogatepass\u001b[39m\u001b[38;5;124m'\u001b[39m)\n\u001b[0;32m    343\u001b[0m \u001b[38;5;28;01mif\u001b[39;00m (\u001b[38;5;28mcls\u001b[39m \u001b[38;5;129;01mis\u001b[39;00m \u001b[38;5;28;01mNone\u001b[39;00m \u001b[38;5;129;01mand\u001b[39;00m object_hook \u001b[38;5;129;01mis\u001b[39;00m \u001b[38;5;28;01mNone\u001b[39;00m \u001b[38;5;129;01mand\u001b[39;00m\n\u001b[0;32m    344\u001b[0m         parse_int \u001b[38;5;129;01mis\u001b[39;00m \u001b[38;5;28;01mNone\u001b[39;00m \u001b[38;5;129;01mand\u001b[39;00m parse_float \u001b[38;5;129;01mis\u001b[39;00m \u001b[38;5;28;01mNone\u001b[39;00m \u001b[38;5;129;01mand\u001b[39;00m\n\u001b[0;32m    345\u001b[0m         parse_constant \u001b[38;5;129;01mis\u001b[39;00m \u001b[38;5;28;01mNone\u001b[39;00m \u001b[38;5;129;01mand\u001b[39;00m object_pairs_hook \u001b[38;5;129;01mis\u001b[39;00m \u001b[38;5;28;01mNone\u001b[39;00m \u001b[38;5;129;01mand\u001b[39;00m \u001b[38;5;129;01mnot\u001b[39;00m kw):\n\u001b[1;32m--> 346\u001b[0m     \u001b[38;5;28;01mreturn\u001b[39;00m _default_decoder\u001b[38;5;241m.\u001b[39mdecode(s)\n\u001b[0;32m    347\u001b[0m \u001b[38;5;28;01mif\u001b[39;00m \u001b[38;5;28mcls\u001b[39m \u001b[38;5;129;01mis\u001b[39;00m \u001b[38;5;28;01mNone\u001b[39;00m:\n\u001b[0;32m    348\u001b[0m     \u001b[38;5;28mcls\u001b[39m \u001b[38;5;241m=\u001b[39m JSONDecoder\n",
      "File \u001b[1;32m~\\anaconda3\\Lib\\json\\decoder.py:337\u001b[0m, in \u001b[0;36mJSONDecoder.decode\u001b[1;34m(self, s, _w)\u001b[0m\n\u001b[0;32m    332\u001b[0m \u001b[38;5;28;01mdef\u001b[39;00m \u001b[38;5;21mdecode\u001b[39m(\u001b[38;5;28mself\u001b[39m, s, _w\u001b[38;5;241m=\u001b[39mWHITESPACE\u001b[38;5;241m.\u001b[39mmatch):\n\u001b[0;32m    333\u001b[0m \u001b[38;5;250m    \u001b[39m\u001b[38;5;124;03m\"\"\"Return the Python representation of ``s`` (a ``str`` instance\u001b[39;00m\n\u001b[0;32m    334\u001b[0m \u001b[38;5;124;03m    containing a JSON document).\u001b[39;00m\n\u001b[0;32m    335\u001b[0m \n\u001b[0;32m    336\u001b[0m \u001b[38;5;124;03m    \"\"\"\u001b[39;00m\n\u001b[1;32m--> 337\u001b[0m     obj, end \u001b[38;5;241m=\u001b[39m \u001b[38;5;28mself\u001b[39m\u001b[38;5;241m.\u001b[39mraw_decode(s, idx\u001b[38;5;241m=\u001b[39m_w(s, \u001b[38;5;241m0\u001b[39m)\u001b[38;5;241m.\u001b[39mend())\n\u001b[0;32m    338\u001b[0m     end \u001b[38;5;241m=\u001b[39m _w(s, end)\u001b[38;5;241m.\u001b[39mend()\n\u001b[0;32m    339\u001b[0m     \u001b[38;5;28;01mif\u001b[39;00m end \u001b[38;5;241m!=\u001b[39m \u001b[38;5;28mlen\u001b[39m(s):\n",
      "File \u001b[1;32m~\\anaconda3\\Lib\\json\\decoder.py:355\u001b[0m, in \u001b[0;36mJSONDecoder.raw_decode\u001b[1;34m(self, s, idx)\u001b[0m\n\u001b[0;32m    353\u001b[0m     obj, end \u001b[38;5;241m=\u001b[39m \u001b[38;5;28mself\u001b[39m\u001b[38;5;241m.\u001b[39mscan_once(s, idx)\n\u001b[0;32m    354\u001b[0m \u001b[38;5;28;01mexcept\u001b[39;00m \u001b[38;5;167;01mStopIteration\u001b[39;00m \u001b[38;5;28;01mas\u001b[39;00m err:\n\u001b[1;32m--> 355\u001b[0m     \u001b[38;5;28;01mraise\u001b[39;00m JSONDecodeError(\u001b[38;5;124m\"\u001b[39m\u001b[38;5;124mExpecting value\u001b[39m\u001b[38;5;124m\"\u001b[39m, s, err\u001b[38;5;241m.\u001b[39mvalue) \u001b[38;5;28;01mfrom\u001b[39;00m \u001b[38;5;28;01mNone\u001b[39;00m\n\u001b[0;32m    356\u001b[0m \u001b[38;5;28;01mreturn\u001b[39;00m obj, end\n",
      "\u001b[1;31mJSONDecodeError\u001b[0m: Expecting value: line 1 column 1 (char 0)"
     ]
    }
   ],
   "source": [
    "# 결과 객체에 있는 데이터 [json] 조회\n",
    "resulting_dict = json.loads(response.text) # json을 dict 타입으로 바꾸는 함수\n",
    "resulting_dict.keys() # dictionary 키 확인 > 중첩 딕셔너리"
   ]
  },
  {
   "cell_type": "code",
   "execution_count": null,
   "id": "371d33b3",
   "metadata": {},
   "outputs": [],
   "source": [
    "# 중첩딕셔너리의 키 확인\n",
    "rewulting_dict['response'].keys()"
   ]
  },
  {
   "cell_type": "code",
   "execution_count": null,
   "id": "3c4a98c5",
   "metadata": {},
   "outputs": [],
   "source": [
    "resulting_dict['response']['body'].keys()"
   ]
  },
  {
   "cell_type": "code",
   "execution_count": null,
   "id": "42a2323a",
   "metadata": {},
   "outputs": [],
   "source": [
    "# 첫번째 아이템 호출\n",
    "resulting_dict['response']['body']['items'][0]"
   ]
  },
  {
   "cell_type": "code",
   "execution_count": null,
   "id": "e776f562",
   "metadata": {},
   "outputs": [],
   "source": [
    "# 주소 카메라위치, 위도 , 경도의 정보만 출력\n",
    "address_list =[]\n",
    "location_list=[]\n",
    "latitude_list =[]\n",
    "longitude_list = []\n",
    "\n",
    "# dictionary 속 데이터 정보입력\n",
    "\n",
    "for tmp in resulting_dict['response']['body']['items']:\n",
    "    address_list.append(tmp['rdnmadr'])\n",
    "    location_list.append(tmp['itipc'])\n",
    "    latitude_list.append(tmp['latitude'])\n",
    "    longitude_list.append(tmp['longitude'])\n",
    "    \n",
    "print(address_list[:10])\n",
    "print(location_list[:10])\n",
    "print(longitude_list[:10])"
   ]
  },
  {
   "cell_type": "code",
   "execution_count": null,
   "id": "1f5378f5",
   "metadata": {},
   "outputs": [],
   "source": [
    "# dataframe로 변환\n",
    "df = pdDataFrame([\n",
    "    'address' : address_list,\n",
    "    'location': location_list,\n",
    "    'latitude': latitude_list,\n",
    "    'longitude': longitude_list\n",
    "])\n",
    "\n",
    "display(df)"
   ]
  }
 ],
 "metadata": {
  "kernelspec": {
   "display_name": "Python 3 (ipykernel)",
   "language": "python",
   "name": "python3"
  },
  "language_info": {
   "codemirror_mode": {
    "name": "ipython",
    "version": 3
   },
   "file_extension": ".py",
   "mimetype": "text/x-python",
   "name": "python",
   "nbconvert_exporter": "python",
   "pygments_lexer": "ipython3",
   "version": "3.11.3"
  }
 },
 "nbformat": 4,
 "nbformat_minor": 5
}
