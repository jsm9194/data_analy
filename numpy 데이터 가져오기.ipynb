{
 "cells": [
  {
   "cell_type": "markdown",
   "id": "c0e45c73",
   "metadata": {},
   "source": [
    "# 데이터 실습\n",
    "\n",
    "### numpy"
   ]
  },
  {
   "cell_type": "code",
   "execution_count": 1,
   "id": "a348c5bb",
   "metadata": {},
   "outputs": [],
   "source": [
    "# 라이브러리 로딩\n",
    "import numpy as np "
   ]
  },
  {
   "cell_type": "code",
   "execution_count": 2,
   "id": "aca5f7f3",
   "metadata": {},
   "outputs": [],
   "source": [
    "# 파이썬 리스트 넘파이로 변환\n",
    "a = [1, 3.14, True, 'hello']\n",
    "b = np.array(a)"
   ]
  },
  {
   "cell_type": "code",
   "execution_count": 3,
   "id": "80f73dcc",
   "metadata": {},
   "outputs": [
    {
     "name": "stdout",
     "output_type": "stream",
     "text": [
      "[1, 3.14, True, 'hello']\n",
      "Data type of 1\n",
      "Data type of 3.14\n",
      "Data type of True\n",
      "Data type of hello\n"
     ]
    }
   ],
   "source": [
    "# 리스트 원소 데이터 타입 확인\n",
    "print(a)\n",
    "for element in a:\n",
    "    print('Data type of {}'.format(element, type(element)))"
   ]
  },
  {
   "cell_type": "code",
   "execution_count": 5,
   "id": "41650369",
   "metadata": {},
   "outputs": [
    {
     "name": "stdout",
     "output_type": "stream",
     "text": [
      "[[1, 2, 3], [4, 5, 6]]\n"
     ]
    }
   ],
   "source": [
    "#중첩 리스트 생성\n",
    "a = [[1, 2, 3], [4, 5, 6]]\n",
    "print(a)"
   ]
  },
  {
   "cell_type": "code",
   "execution_count": 6,
   "id": "ae319b4c",
   "metadata": {},
   "outputs": [
    {
     "data": {
      "text/plain": [
       "list"
      ]
     },
     "execution_count": 6,
     "metadata": {},
     "output_type": "execute_result"
    }
   ],
   "source": [
    "# 중첩리스트 데이터 타입 확인\n",
    "type(a)"
   ]
  },
  {
   "cell_type": "code",
   "execution_count": 7,
   "id": "7b4bd64a",
   "metadata": {},
   "outputs": [
    {
     "name": "stdout",
     "output_type": "stream",
     "text": [
      "[[1 2 3]\n",
      " [4 5 6]]\n"
     ]
    }
   ],
   "source": [
    "# 중첩리스트를 넘파이 배열로 변환 > 2차원 행렬로\n",
    "b = np.array(a)\n",
    "print(b)"
   ]
  },
  {
   "cell_type": "code",
   "execution_count": 8,
   "id": "27effd1d",
   "metadata": {},
   "outputs": [
    {
     "data": {
      "text/plain": [
       "numpy.ndarray"
      ]
     },
     "execution_count": 8,
     "metadata": {},
     "output_type": "execute_result"
    }
   ],
   "source": [
    "# 행렬 데이터 타입 확인\n",
    "type(b)"
   ]
  },
  {
   "cell_type": "code",
   "execution_count": 9,
   "id": "5c125961",
   "metadata": {},
   "outputs": [
    {
     "data": {
      "text/plain": [
       "(2, 3)"
      ]
     },
     "execution_count": 9,
     "metadata": {},
     "output_type": "execute_result"
    }
   ],
   "source": [
    "# 배열의 shape 확인\n",
    "b.shape"
   ]
  },
  {
   "cell_type": "code",
   "execution_count": 10,
   "id": "a5d933f5",
   "metadata": {},
   "outputs": [
    {
     "data": {
      "text/plain": [
       "2"
      ]
     },
     "execution_count": 10,
     "metadata": {},
     "output_type": "execute_result"
    }
   ],
   "source": [
    "#배열의 차원 확인\n",
    "b.ndim"
   ]
  },
  {
   "cell_type": "code",
   "execution_count": 11,
   "id": "7bcd79f0",
   "metadata": {},
   "outputs": [
    {
     "data": {
      "text/plain": [
       "6"
      ]
     },
     "execution_count": 11,
     "metadata": {},
     "output_type": "execute_result"
    }
   ],
   "source": [
    "b.size"
   ]
  },
  {
   "cell_type": "code",
   "execution_count": 12,
   "id": "73f44dcf",
   "metadata": {},
   "outputs": [
    {
     "name": "stdout",
     "output_type": "stream",
     "text": [
      "[[1 2]\n",
      " [3 4]\n",
      " [5 6]]\n"
     ]
    }
   ],
   "source": [
    "# 2*3 행렬을 3*2로 변환\n",
    "print(b.reshape(3,2))"
   ]
  },
  {
   "cell_type": "code",
   "execution_count": 14,
   "id": "9b158ec9",
   "metadata": {},
   "outputs": [
    {
     "name": "stdout",
     "output_type": "stream",
     "text": [
      "[[1. 2. 3.]\n",
      " [4. 5. 6.]]\n"
     ]
    }
   ],
   "source": [
    "# 배열요소 데이터 타입 변경: 정수 > 실수 0.0\n",
    "\n",
    "b = np.array(a, dtype=np.float64)\n",
    "print(b)"
   ]
  },
  {
   "cell_type": "code",
   "execution_count": 15,
   "id": "0b0bf025",
   "metadata": {},
   "outputs": [
    {
     "name": "stdout",
     "output_type": "stream",
     "text": [
      "[[1 2 3]\n",
      " [4 5 6]]\n"
     ]
    }
   ],
   "source": [
    "# 배열 요소 데이터 타입 변경 실수>정수\n",
    "b = b.astype(np.int64)\n",
    "print(b)"
   ]
  },
  {
   "cell_type": "markdown",
   "id": "dea14413",
   "metadata": {},
   "source": [
    "### 넘파이 배열 인덱싱\n",
    " 0부터 넘버링됨"
   ]
  },
  {
   "cell_type": "code",
   "execution_count": 16,
   "id": "21f21668",
   "metadata": {},
   "outputs": [],
   "source": [
    "#새로운 배열 arr생성\n",
    "arr = np.array([1, 2, 3, 4, 5])"
   ]
  },
  {
   "cell_type": "code",
   "execution_count": 17,
   "id": "cff92296",
   "metadata": {},
   "outputs": [
    {
     "name": "stdout",
     "output_type": "stream",
     "text": [
      "[1 2 3 4 5]\n"
     ]
    }
   ],
   "source": [
    "print(arr)"
   ]
  },
  {
   "cell_type": "code",
   "execution_count": 18,
   "id": "5a52e505",
   "metadata": {},
   "outputs": [
    {
     "name": "stdout",
     "output_type": "stream",
     "text": [
      "1\n"
     ]
    }
   ],
   "source": [
    "#배열 첫번째 원소 가져오기\n",
    "print(arr[0])"
   ]
  },
  {
   "cell_type": "code",
   "execution_count": 19,
   "id": "9c2e4b04",
   "metadata": {},
   "outputs": [
    {
     "name": "stdout",
     "output_type": "stream",
     "text": [
      "4\n"
     ]
    }
   ],
   "source": [
    "#배열 네번째 원소 가져오기\n",
    "print(arr[3])"
   ]
  },
  {
   "cell_type": "code",
   "execution_count": 20,
   "id": "390110ee",
   "metadata": {},
   "outputs": [
    {
     "name": "stdout",
     "output_type": "stream",
     "text": [
      "5\n"
     ]
    }
   ],
   "source": [
    "# 마지막원소\n",
    "print(arr[-1])"
   ]
  },
  {
   "cell_type": "markdown",
   "id": "e79422c0",
   "metadata": {},
   "source": [
    "### 2차원 배열 인덱싱"
   ]
  },
  {
   "cell_type": "code",
   "execution_count": 21,
   "id": "f81e79c2",
   "metadata": {},
   "outputs": [],
   "source": [
    "#2차원 배열 생성\n",
    "arr_2d = np.array([[1,2,3],[4,5,6]])"
   ]
  },
  {
   "cell_type": "code",
   "execution_count": 23,
   "id": "348c720f",
   "metadata": {},
   "outputs": [
    {
     "data": {
      "text/plain": [
       "1"
      ]
     },
     "execution_count": 23,
     "metadata": {},
     "output_type": "execute_result"
    }
   ],
   "source": [
    "#1행 1열 원소 가져오기\n",
    "arr_2d[0,0] # 콤마를 기준으로 행과 열을 구분"
   ]
  },
  {
   "cell_type": "code",
   "execution_count": 25,
   "id": "23dc6857",
   "metadata": {},
   "outputs": [
    {
     "data": {
      "text/plain": [
       "6"
      ]
     },
     "execution_count": 25,
     "metadata": {},
     "output_type": "execute_result"
    }
   ],
   "source": [
    "arr_2d[1,2] # 2행 3열"
   ]
  },
  {
   "cell_type": "markdown",
   "id": "5b876c93",
   "metadata": {},
   "source": [
    "### 배열 슬라이싱\n",
    "\n",
    "### arange 함수\n"
   ]
  },
  {
   "cell_type": "code",
   "execution_count": 26,
   "id": "171a396d",
   "metadata": {},
   "outputs": [],
   "source": [
    "arr_2d = np.arange(1, 7).reshape(2,3) \n",
    "#arange(시작숫자, 끝숫자): 시작숫자부터 끝숫자 -1까지의 번화가 나열되어 저장된다.\n",
    "#reshape(행, 열): 원소 개수에 맞춰 reshape 을 활용하면 배열의 크기를바꿀수 있음\n",
    "#활용에 따라 차원도 변경이 가능하다"
   ]
  },
  {
   "cell_type": "code",
   "execution_count": 27,
   "id": "1dd11d3c",
   "metadata": {},
   "outputs": [
    {
     "name": "stdout",
     "output_type": "stream",
     "text": [
      "[[1 2 3]\n",
      " [4 5 6]]\n"
     ]
    }
   ],
   "source": [
    "print(arr_2d)"
   ]
  },
  {
   "cell_type": "code",
   "execution_count": 28,
   "id": "44df3805",
   "metadata": {},
   "outputs": [
    {
     "name": "stdout",
     "output_type": "stream",
     "text": [
      "[1 2 3]\n"
     ]
    }
   ],
   "source": [
    "#첫번째 행 전체 가져오기\n",
    "print(arr_2d[0, :]) #첫번째 행에 대해서 모든 열의 값 출력"
   ]
  },
  {
   "cell_type": "code",
   "execution_count": 29,
   "id": "608e810c",
   "metadata": {},
   "outputs": [
    {
     "name": "stdout",
     "output_type": "stream",
     "text": [
      "[3 6]\n"
     ]
    }
   ],
   "source": [
    "# 세번째 열 전체 출력\n",
    "print(arr_2d[:, 2])"
   ]
  },
  {
   "cell_type": "code",
   "execution_count": 30,
   "id": "63045a4e",
   "metadata": {},
   "outputs": [
    {
     "name": "stdout",
     "output_type": "stream",
     "text": [
      "[[1 2]\n",
      " [4 5]]\n"
     ]
    }
   ],
   "source": [
    "# 전체행 두번째 열까지 모두 출력\n",
    "print(arr_2d[:, :2])"
   ]
  }
 ],
 "metadata": {
  "kernelspec": {
   "display_name": "Python 3 (ipykernel)",
   "language": "python",
   "name": "python3"
  },
  "language_info": {
   "codemirror_mode": {
    "name": "ipython",
    "version": 3
   },
   "file_extension": ".py",
   "mimetype": "text/x-python",
   "name": "python",
   "nbconvert_exporter": "python",
   "pygments_lexer": "ipython3",
   "version": "3.11.3"
  }
 },
 "nbformat": 4,
 "nbformat_minor": 5
}
